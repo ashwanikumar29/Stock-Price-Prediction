{
 "cells": [
  {
   "cell_type": "code",
   "execution_count": 80,
   "id": "f313ebf8-ab4b-475d-8817-a9a5f6db6dbe",
   "metadata": {},
   "outputs": [],
   "source": [
    "import numpy as np\n",
    "import pandas as pd\n",
    "import yfinance as yf\n",
    "import json\n",
    "import matplotlib.pyplot as plt\n",
    "from keras.models import Sequential\n",
    "from keras.layers import LSTM, Dense, Dropout\n",
    "from sklearn.preprocessing import MinMaxScaler\n",
    "from sklearn.metrics import mean_squared_error, r2_score"
   ]
  },
  {
   "cell_type": "code",
   "execution_count": 81,
   "id": "2351c1bf-b59a-46ac-8a98-f5afc11df7e1",
   "metadata": {},
   "outputs": [
    {
     "name": "stderr",
     "output_type": "stream",
     "text": [
      "[*********************100%***********************]  1 of 1 completed\n"
     ]
    }
   ],
   "source": [
    "# Load stock data\n",
    "stock = \"GOOG\"\n",
    "start = \"2018-01-01\"\n",
    "end = \"2024-12-31\"\n",
    "data = yf.download(stock, start, end)"
   ]
  },
  {
   "cell_type": "code",
   "execution_count": 82,
   "id": "20184eee-cf1d-4de3-aede-205a23d460dc",
   "metadata": {},
   "outputs": [],
   "source": [
    "data.reset_index(inplace=True)"
   ]
  },
  {
   "cell_type": "code",
   "execution_count": 83,
   "id": "bf50414f-4631-4dff-9a6b-bd916f2858d5",
   "metadata": {},
   "outputs": [
    {
     "data": {
      "text/html": [
       "<div>\n",
       "<style scoped>\n",
       "    .dataframe tbody tr th:only-of-type {\n",
       "        vertical-align: middle;\n",
       "    }\n",
       "\n",
       "    .dataframe tbody tr th {\n",
       "        vertical-align: top;\n",
       "    }\n",
       "\n",
       "    .dataframe thead tr th {\n",
       "        text-align: left;\n",
       "    }\n",
       "</style>\n",
       "<table border=\"1\" class=\"dataframe\">\n",
       "  <thead>\n",
       "    <tr>\n",
       "      <th>Price</th>\n",
       "      <th>Date</th>\n",
       "      <th>Close</th>\n",
       "      <th>High</th>\n",
       "      <th>Low</th>\n",
       "      <th>Open</th>\n",
       "      <th>Volume</th>\n",
       "    </tr>\n",
       "    <tr>\n",
       "      <th>Ticker</th>\n",
       "      <th></th>\n",
       "      <th>GOOG</th>\n",
       "      <th>GOOG</th>\n",
       "      <th>GOOG</th>\n",
       "      <th>GOOG</th>\n",
       "      <th>GOOG</th>\n",
       "    </tr>\n",
       "  </thead>\n",
       "  <tbody>\n",
       "    <tr>\n",
       "      <th>0</th>\n",
       "      <td>2018-01-02</td>\n",
       "      <td>52.998974</td>\n",
       "      <td>53.095517</td>\n",
       "      <td>52.015135</td>\n",
       "      <td>52.169901</td>\n",
       "      <td>24752000</td>\n",
       "    </tr>\n",
       "    <tr>\n",
       "      <th>1</th>\n",
       "      <td>2018-01-03</td>\n",
       "      <td>53.868855</td>\n",
       "      <td>54.058455</td>\n",
       "      <td>52.909896</td>\n",
       "      <td>52.964637</td>\n",
       "      <td>28604000</td>\n",
       "    </tr>\n",
       "    <tr>\n",
       "      <th>2</th>\n",
       "      <td>2018-01-04</td>\n",
       "      <td>54.063931</td>\n",
       "      <td>54.420742</td>\n",
       "      <td>53.944596</td>\n",
       "      <td>54.143555</td>\n",
       "      <td>20092000</td>\n",
       "    </tr>\n",
       "    <tr>\n",
       "      <th>3</th>\n",
       "      <td>2018-01-05</td>\n",
       "      <td>54.851696</td>\n",
       "      <td>54.952222</td>\n",
       "      <td>54.342606</td>\n",
       "      <td>54.442137</td>\n",
       "      <td>25582000</td>\n",
       "    </tr>\n",
       "    <tr>\n",
       "      <th>4</th>\n",
       "      <td>2018-01-08</td>\n",
       "      <td>55.086086</td>\n",
       "      <td>55.301565</td>\n",
       "      <td>54.821341</td>\n",
       "      <td>54.851696</td>\n",
       "      <td>20952000</td>\n",
       "    </tr>\n",
       "    <tr>\n",
       "      <th>...</th>\n",
       "      <td>...</td>\n",
       "      <td>...</td>\n",
       "      <td>...</td>\n",
       "      <td>...</td>\n",
       "      <td>...</td>\n",
       "      <td>...</td>\n",
       "    </tr>\n",
       "    <tr>\n",
       "      <th>1755</th>\n",
       "      <td>2024-12-23</td>\n",
       "      <td>195.766968</td>\n",
       "      <td>196.266399</td>\n",
       "      <td>191.411929</td>\n",
       "      <td>193.809192</td>\n",
       "      <td>15235900</td>\n",
       "    </tr>\n",
       "    <tr>\n",
       "      <th>1756</th>\n",
       "      <td>2024-12-24</td>\n",
       "      <td>197.345184</td>\n",
       "      <td>197.445061</td>\n",
       "      <td>194.975874</td>\n",
       "      <td>195.946768</td>\n",
       "      <td>6809800</td>\n",
       "    </tr>\n",
       "    <tr>\n",
       "      <th>1757</th>\n",
       "      <td>2024-12-26</td>\n",
       "      <td>196.875717</td>\n",
       "      <td>197.934509</td>\n",
       "      <td>195.647106</td>\n",
       "      <td>196.516126</td>\n",
       "      <td>7907900</td>\n",
       "    </tr>\n",
       "    <tr>\n",
       "      <th>1758</th>\n",
       "      <td>2024-12-27</td>\n",
       "      <td>193.819183</td>\n",
       "      <td>196.576052</td>\n",
       "      <td>191.753543</td>\n",
       "      <td>196.246426</td>\n",
       "      <td>14693000</td>\n",
       "    </tr>\n",
       "    <tr>\n",
       "      <th>1759</th>\n",
       "      <td>2024-12-30</td>\n",
       "      <td>192.470734</td>\n",
       "      <td>193.559490</td>\n",
       "      <td>190.143383</td>\n",
       "      <td>190.647813</td>\n",
       "      <td>12209500</td>\n",
       "    </tr>\n",
       "  </tbody>\n",
       "</table>\n",
       "<p>1760 rows × 6 columns</p>\n",
       "</div>"
      ],
      "text/plain": [
       "Price        Date       Close        High         Low        Open    Volume\n",
       "Ticker                   GOOG        GOOG        GOOG        GOOG      GOOG\n",
       "0      2018-01-02   52.998974   53.095517   52.015135   52.169901  24752000\n",
       "1      2018-01-03   53.868855   54.058455   52.909896   52.964637  28604000\n",
       "2      2018-01-04   54.063931   54.420742   53.944596   54.143555  20092000\n",
       "3      2018-01-05   54.851696   54.952222   54.342606   54.442137  25582000\n",
       "4      2018-01-08   55.086086   55.301565   54.821341   54.851696  20952000\n",
       "...           ...         ...         ...         ...         ...       ...\n",
       "1755   2024-12-23  195.766968  196.266399  191.411929  193.809192  15235900\n",
       "1756   2024-12-24  197.345184  197.445061  194.975874  195.946768   6809800\n",
       "1757   2024-12-26  196.875717  197.934509  195.647106  196.516126   7907900\n",
       "1758   2024-12-27  193.819183  196.576052  191.753543  196.246426  14693000\n",
       "1759   2024-12-30  192.470734  193.559490  190.143383  190.647813  12209500\n",
       "\n",
       "[1760 rows x 6 columns]"
      ]
     },
     "execution_count": 83,
     "metadata": {},
     "output_type": "execute_result"
    }
   ],
   "source": [
    "data"
   ]
  },
  {
   "cell_type": "code",
   "execution_count": 84,
   "id": "d6c4711e-d606-4377-9863-a7d2f33bbc3f",
   "metadata": {},
   "outputs": [
    {
     "data": {
      "image/png": "[encoded data removed]",
      "text/plain": [
       "<Figure size 800x600 with 1 Axes>"
      ]
     },
     "metadata": {},
     "output_type": "display_data"
    }
   ],
   "source": [
    "ma_100_days = data.Close.rolling(100).mean()\n",
    "plt.figure(figsize=(8,6))\n",
    "plt.plot(ma_100_days, 'r')\n",
    "plt.plot(data.Close, 'g')\n",
    "plt.show()"
   ]
  },
  {
   "cell_type": "code",
   "execution_count": 85,
   "id": "75b79898-6375-4954-9115-25fbdec098d3",
   "metadata": {},
   "outputs": [],
   "source": [
    "# Prepare data\n",
    "data_train = data['Close'][0:int(len(data) * 0.80)]\n",
    "data_test = data['Close'][int(len(data) * 0.80):]\n",
    "\n",
    "scaler = MinMaxScaler(feature_range=(0, 1))\n",
    "data_train_scaled = scaler.fit_transform(np.array(data_train).reshape(-1, 1))"
   ]
  },
  {
   "cell_type": "code",
   "execution_count": 86,
   "id": "5df51bc5-4e68-4524-8351-6f1253ea37ad",
   "metadata": {},
   "outputs": [],
   "source": [
    "# Create sequences\n",
    "def create_sequences(data, time_step=100):\n",
    "    x, y = [], []\n",
    "    for i in range(len(data) - time_step - 1):\n",
    "        x.append(data[i:(i + time_step), 0])\n",
    "        y.append(data[i + time_step, 0])\n",
    "    return np.array(x), np.array(y)\n",
    "\n",
    "x_train, y_train = create_sequences(data_train_scaled)"
   ]
  },
  {
   "cell_type": "code",
   "execution_count": 87,
   "id": "0125167f-a4ed-427c-a299-a5eee33747bf",
   "metadata": {},
   "outputs": [],
   "source": [
    "# Reshape for LSTM\n",
    "x_train = x_train.reshape(x_train.shape[0], x_train.shape[1], 1)"
   ]
  },
  {
   "cell_type": "code",
   "execution_count": 88,
   "id": "6a862498-d044-44d2-978f-3dedcba899b9",
   "metadata": {},
   "outputs": [
    {
     "name": "stderr",
     "output_type": "stream",
     "text": [
      "C:\\Python312\\Lib\\site-packages\\keras\\src\\layers\\rnn\\rnn.py:200: UserWarning: Do not pass an `input_shape`/`input_dim` argument to a layer. When using Sequential models, prefer using an `Input(shape)` object as the first layer in the model instead.\n",
      "  super().__init__(**kwargs)\n"
     ]
    }
   ],
   "source": [
    "# Build LSTM model\n",
    "model = Sequential([\n",
    "    LSTM(50, return_sequences=True, input_shape=(100, 1)),\n",
    "    Dropout(0.2),\n",
    "    LSTM(50, return_sequences=False),\n",
    "    Dropout(0.2),\n",
    "    Dense(1)\n",
    "])"
   ]
  },
  {
   "cell_type": "code",
   "execution_count": 89,
   "id": "052057bb-5ecc-46e6-917f-1eb4ca57ae5c",
   "metadata": {},
   "outputs": [
    {
     "name": "stdout",
     "output_type": "stream",
     "text": [
      "Epoch 1/10\n",
      "\u001b[1m41/41\u001b[0m \u001b[32m━━━━━━━━━━━━━━━━━━━━\u001b[0m\u001b[37m\u001b[0m \u001b[1m7s\u001b[0m 77ms/step - loss: 0.0637\n",
      "Epoch 2/10\n",
      "\u001b[1m41/41\u001b[0m \u001b[32m━━━━━━━━━━━━━━━━━━━━\u001b[0m\u001b[37m\u001b[0m \u001b[1m4s\u001b[0m 88ms/step - loss: 0.0049 \n",
      "Epoch 3/10\n",
      "\u001b[1m41/41\u001b[0m \u001b[32m━━━━━━━━━━━━━━━━━━━━\u001b[0m\u001b[37m\u001b[0m \u001b[1m3s\u001b[0m 77ms/step - loss: 0.0045\n",
      "Epoch 4/10\n",
      "\u001b[1m41/41\u001b[0m \u001b[32m━━━━━━━━━━━━━━━━━━━━\u001b[0m\u001b[37m\u001b[0m \u001b[1m5s\u001b[0m 80ms/step - loss: 0.0037\n",
      "Epoch 5/10\n",
      "\u001b[1m41/41\u001b[0m \u001b[32m━━━━━━━━━━━━━━━━━━━━\u001b[0m\u001b[37m\u001b[0m \u001b[1m3s\u001b[0m 75ms/step - loss: 0.0037\n",
      "Epoch 6/10\n",
      "\u001b[1m41/41\u001b[0m \u001b[32m━━━━━━━━━━━━━━━━━━━━\u001b[0m\u001b[37m\u001b[0m \u001b[1m3s\u001b[0m 81ms/step - loss: 0.0034\n",
      "Epoch 7/10\n",
      "\u001b[1m41/41\u001b[0m \u001b[32m━━━━━━━━━━━━━━━━━━━━\u001b[0m\u001b[37m\u001b[0m \u001b[1m4s\u001b[0m 103ms/step - loss: 0.0035\n",
      "Epoch 8/10\n",
      "\u001b[1m41/41\u001b[0m \u001b[32m━━━━━━━━━━━━━━━━━━━━\u001b[0m\u001b[37m\u001b[0m \u001b[1m4s\u001b[0m 92ms/step - loss: 0.0033 \n",
      "Epoch 9/10\n",
      "\u001b[1m41/41\u001b[0m \u001b[32m━━━━━━━━━━━━━━━━━━━━\u001b[0m\u001b[37m\u001b[0m \u001b[1m3s\u001b[0m 79ms/step - loss: 0.0032\n",
      "Epoch 10/10\n",
      "\u001b[1m41/41\u001b[0m \u001b[32m━━━━━━━━━━━━━━━━━━━━\u001b[0m\u001b[37m\u001b[0m \u001b[1m4s\u001b[0m 89ms/step - loss: 0.0032 \n"
     ]
    },
    {
     "data": {
      "text/plain": [
       "<keras.src.callbacks.history.History at 0x27ba36f6300>"
      ]
     },
     "execution_count": 89,
     "metadata": {},
     "output_type": "execute_result"
    }
   ],
   "source": [
    "model.compile(loss='mean_squared_error', optimizer='adam')\n",
    "model.fit(x_train, y_train, epochs=10, batch_size=32, verbose=1)"
   ]
  },
  {
   "cell_type": "code",
   "execution_count": 90,
   "id": "0d1ecec0-5c91-4fb5-a4dc-727e27ae6237",
   "metadata": {},
   "outputs": [],
   "source": [
    "# Prepare test data\n",
    "past_100_days = data_train.tail(100)\n",
    "data_test_scaled = scaler.transform(np.array(data_test).reshape(-1, 1))\n",
    "x_test, y_test = create_sequences(data_test_scaled)"
   ]
  },
  {
   "cell_type": "code",
   "execution_count": 91,
   "id": "610a8158-643a-439f-97d0-699c2dcd1771",
   "metadata": {},
   "outputs": [],
   "source": [
    "# Reshape test data\n",
    "x_test = x_test.reshape(x_test.shape[0], x_test.shape[1], 1)"
   ]
  },
  {
   "cell_type": "code",
   "execution_count": 92,
   "id": "42ee9b42-88d3-4df5-929e-ab1e271e3f23",
   "metadata": {},
   "outputs": [
    {
     "name": "stdout",
     "output_type": "stream",
     "text": [
      "\u001b[1m8/8\u001b[0m \u001b[32m━━━━━━━━━━━━━━━━━━━━\u001b[0m\u001b[37m\u001b[0m \u001b[1m1s\u001b[0m 95ms/step \n"
     ]
    }
   ],
   "source": [
    "# Make predictions\n",
    "predictions = model.predict(x_test)\n",
    "scale_factor = 1 / scaler.scale_[0]\n",
    "predictions = predictions * scale_factor\n",
    "y_test = y_test * scale_factor"
   ]
  },
  {
   "cell_type": "code",
   "execution_count": 93,
   "id": "0e50cf2d-15d0-4982-ab35-2861699f2a6e",
   "metadata": {},
   "outputs": [
    {
     "name": "stdout",
     "output_type": "stream",
     "text": [
      "✅ Model trained & saved! Accuracy: 84.62%, MSE: 117.1309, RMSE: 10.8227, R²: 0.8687\n"
     ]
    }
   ],
   "source": [
    "# Calculate accuracy percentage\n",
    "mape = np.mean(np.abs((y_test - predictions) / y_test)) * 100\n",
    "accuracy = 100 - mape  # Higher is better\n",
    "\n",
    "# Save metrics to JSON\n",
    "metrics = {\"MSE\": mse, \"RMSE\": rmse, \"R2_Score\": r2, \"Accuracy_Percentage\": accuracy}\n",
    "with open(\"metrics.json\", \"w\") as f:\n",
    "    json.dump(metrics, f)\n",
    "\n",
    "# Save the trained model\n",
    "model.save(\"Stock_Predictions_Model.keras\")\n",
    "\n",
    "print(f\"✅ Model trained & saved! Accuracy: {accuracy:.2f}%, MSE: {mse:.4f}, RMSE: {rmse:.4f}, R²: {r2:.4f}\")"
   ]
  },
  {
   "cell_type": "code",
   "execution_count": null,
   "id": "67e8a21d-12d0-4cec-b79b-510c86f59f1d",
   "metadata": {},
   "outputs": [],
   "source": []
  },
  {
   "cell_type": "code",
   "execution_count": null,
   "id": "1df05d8c-c964-4231-a50f-ac973fa02114",
   "metadata": {},
   "outputs": [],
   "source": []
  }
 ],
 "metadata": {
  "kernelspec": {
   "display_name": "Python 3 (ipykernel)",
   "language": "python",
   "name": "python3"
  },
  "language_info": {
   "codemirror_mode": {
    "name": "ipython",
    "version": 3
   },
   "file_extension": ".py",
   "mimetype": "text/x-python",
   "name": "python",
   "nbconvert_exporter": "python",
   "pygments_lexer": "ipython3",
   "version": "3.12.3"
  }
 },
 "nbformat": 4,
 "nbformat_minor": 5
}
